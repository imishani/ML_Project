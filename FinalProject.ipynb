{
 "cells": [
  {
   "cell_type": "code",
   "execution_count": 19,
   "metadata": {},
   "outputs": [],
   "source": [
    "import numpy as np\n",
    "import pandas as pd\n",
    "from matplotlib import pyplot as plt\n",
    "import scipy.stats as st"
   ]
  },
  {
   "cell_type": "code",
   "execution_count": 20,
   "metadata": {
    "collapsed": false,
    "jupyter": {
     "outputs_hidden": false
    },
    "pycharm": {
     "name": "#%%\n"
    }
   },
   "outputs": [],
   "source": [
    "df = pd.read_csv('Dataset/train.csv')"
   ]
  },
  {
   "cell_type": "code",
   "execution_count": 21,
   "metadata": {
    "collapsed": false,
    "jupyter": {
     "outputs_hidden": false
    },
    "pycharm": {
     "name": "#%%\n"
    }
   },
   "outputs": [
    {
     "data": {
      "text/plain": "     0        1    2         3       4         5  6      7  8           9  \\\n0  1.0        a  -1d  0.828866   216.0  4.846091  K   50.0  0  161.714226   \n1  8.0        a  -1d  8.981168    46.0  7.324911  A  270.0  0  328.559851   \n2  1.0        a  -1d  1.458061  3304.0  7.548887  D  200.0  1  298.775554   \n3  1.0        b  -1d  2.753682   212.0  8.200746  E  170.0  0  285.342907   \n4  1.0  unknown  -1d  4.496872  1050.0  5.071094  B  260.0  1  328.464688   \n\n   ...  12   13     14   15  16        17  18   19         20 label  \n0  ...   n  2.0  414.0  0.0   S  2.191401  a8  NaN  15.921017     1  \n1  ...   n  3.0   63.0  0.0   M  3.811778  a8  NaN  47.567140     0  \n2  ...   n  1.0  218.0  0.0   M  4.284457  a4  NaN  10.522228     0  \n3  ...   y  2.0    NaN  0.0   D  4.680751  a7  NaN  21.185050     0  \n4  ...   n  3.0  293.0  0.0   S  2.740114  a5  NaN  47.491164     0  \n\n[5 rows x 22 columns]",
      "text/html": "<div>\n<style scoped>\n    .dataframe tbody tr th:only-of-type {\n        vertical-align: middle;\n    }\n\n    .dataframe tbody tr th {\n        vertical-align: top;\n    }\n\n    .dataframe thead th {\n        text-align: right;\n    }\n</style>\n<table border=\"1\" class=\"dataframe\">\n  <thead>\n    <tr style=\"text-align: right;\">\n      <th></th>\n      <th>0</th>\n      <th>1</th>\n      <th>2</th>\n      <th>3</th>\n      <th>4</th>\n      <th>5</th>\n      <th>6</th>\n      <th>7</th>\n      <th>8</th>\n      <th>9</th>\n      <th>...</th>\n      <th>12</th>\n      <th>13</th>\n      <th>14</th>\n      <th>15</th>\n      <th>16</th>\n      <th>17</th>\n      <th>18</th>\n      <th>19</th>\n      <th>20</th>\n      <th>label</th>\n    </tr>\n  </thead>\n  <tbody>\n    <tr>\n      <th>0</th>\n      <td>1.0</td>\n      <td>a</td>\n      <td>-1d</td>\n      <td>0.828866</td>\n      <td>216.0</td>\n      <td>4.846091</td>\n      <td>K</td>\n      <td>50.0</td>\n      <td>0</td>\n      <td>161.714226</td>\n      <td>...</td>\n      <td>n</td>\n      <td>2.0</td>\n      <td>414.0</td>\n      <td>0.0</td>\n      <td>S</td>\n      <td>2.191401</td>\n      <td>a8</td>\n      <td>NaN</td>\n      <td>15.921017</td>\n      <td>1</td>\n    </tr>\n    <tr>\n      <th>1</th>\n      <td>8.0</td>\n      <td>a</td>\n      <td>-1d</td>\n      <td>8.981168</td>\n      <td>46.0</td>\n      <td>7.324911</td>\n      <td>A</td>\n      <td>270.0</td>\n      <td>0</td>\n      <td>328.559851</td>\n      <td>...</td>\n      <td>n</td>\n      <td>3.0</td>\n      <td>63.0</td>\n      <td>0.0</td>\n      <td>M</td>\n      <td>3.811778</td>\n      <td>a8</td>\n      <td>NaN</td>\n      <td>47.567140</td>\n      <td>0</td>\n    </tr>\n    <tr>\n      <th>2</th>\n      <td>1.0</td>\n      <td>a</td>\n      <td>-1d</td>\n      <td>1.458061</td>\n      <td>3304.0</td>\n      <td>7.548887</td>\n      <td>D</td>\n      <td>200.0</td>\n      <td>1</td>\n      <td>298.775554</td>\n      <td>...</td>\n      <td>n</td>\n      <td>1.0</td>\n      <td>218.0</td>\n      <td>0.0</td>\n      <td>M</td>\n      <td>4.284457</td>\n      <td>a4</td>\n      <td>NaN</td>\n      <td>10.522228</td>\n      <td>0</td>\n    </tr>\n    <tr>\n      <th>3</th>\n      <td>1.0</td>\n      <td>b</td>\n      <td>-1d</td>\n      <td>2.753682</td>\n      <td>212.0</td>\n      <td>8.200746</td>\n      <td>E</td>\n      <td>170.0</td>\n      <td>0</td>\n      <td>285.342907</td>\n      <td>...</td>\n      <td>y</td>\n      <td>2.0</td>\n      <td>NaN</td>\n      <td>0.0</td>\n      <td>D</td>\n      <td>4.680751</td>\n      <td>a7</td>\n      <td>NaN</td>\n      <td>21.185050</td>\n      <td>0</td>\n    </tr>\n    <tr>\n      <th>4</th>\n      <td>1.0</td>\n      <td>unknown</td>\n      <td>-1d</td>\n      <td>4.496872</td>\n      <td>1050.0</td>\n      <td>5.071094</td>\n      <td>B</td>\n      <td>260.0</td>\n      <td>1</td>\n      <td>328.464688</td>\n      <td>...</td>\n      <td>n</td>\n      <td>3.0</td>\n      <td>293.0</td>\n      <td>0.0</td>\n      <td>S</td>\n      <td>2.740114</td>\n      <td>a5</td>\n      <td>NaN</td>\n      <td>47.491164</td>\n      <td>0</td>\n    </tr>\n  </tbody>\n</table>\n<p>5 rows × 22 columns</p>\n</div>"
     },
     "execution_count": 21,
     "metadata": {},
     "output_type": "execute_result"
    }
   ],
   "source": [
    "df.head()"
   ]
  },
  {
   "cell_type": "code",
   "execution_count": 22,
   "metadata": {
    "collapsed": false,
    "jupyter": {
     "outputs_hidden": false
    },
    "pycharm": {
     "name": "#%%\n"
    }
   },
   "outputs": [
    {
     "name": "stdout",
     "output_type": "stream",
     "text": [
      "<class 'pandas.core.frame.DataFrame'>\n",
      "RangeIndex: 21931 entries, 0 to 21930\n",
      "Data columns (total 22 columns):\n",
      " #   Column  Non-Null Count  Dtype  \n",
      "---  ------  --------------  -----  \n",
      " 0   0       21858 non-null  float64\n",
      " 1   1       21842 non-null  object \n",
      " 2   2       21875 non-null  object \n",
      " 3   3       21826 non-null  float64\n",
      " 4   4       21906 non-null  float64\n",
      " 5   5       21871 non-null  float64\n",
      " 6   6       21786 non-null  object \n",
      " 7   7       21911 non-null  float64\n",
      " 8   8       21931 non-null  int64  \n",
      " 9   9       21892 non-null  float64\n",
      " 10  10      21828 non-null  float64\n",
      " 11  11      21860 non-null  float64\n",
      " 12  12      21918 non-null  object \n",
      " 13  13      21891 non-null  float64\n",
      " 14  14      17946 non-null  float64\n",
      " 15  15      21832 non-null  float64\n",
      " 16  16      21921 non-null  object \n",
      " 17  17      21830 non-null  float64\n",
      " 18  18      21847 non-null  object \n",
      " 19  19      4250 non-null   object \n",
      " 20  20      21930 non-null  float64\n",
      " 21  label   21931 non-null  int64  \n",
      "dtypes: float64(13), int64(2), object(7)\n",
      "memory usage: 3.7+ MB\n"
     ]
    }
   ],
   "source": [
    "df.info()"
   ]
  },
  {
   "cell_type": "markdown",
   "metadata": {},
   "source": [
    "#### Notice that most of the values in column 19 are None values"
   ]
  },
  {
   "cell_type": "code",
   "execution_count": 23,
   "metadata": {},
   "outputs": [
    {
     "data": {
      "text/plain": "1\na          14397\nb           1436\nunknown     6009\nName: 1, dtype: int64"
     },
     "execution_count": 23,
     "metadata": {},
     "output_type": "execute_result"
    }
   ],
   "source": [
    "df.groupby('1')['1'].count()"
   ]
  },
  {
   "cell_type": "code",
   "execution_count": 24,
   "metadata": {},
   "outputs": [
    {
     "data": {
      "text/plain": "2\n-1d     17633\n100d       18\n101d       13\n102d       19\n103d       11\n        ...  \n96d        28\n97d        34\n98d        35\n99d        24\n9d          6\nName: 2, Length: 491, dtype: int64"
     },
     "execution_count": 24,
     "metadata": {},
     "output_type": "execute_result"
    }
   ],
   "source": [
    "df.groupby('2')['2'].count()"
   ]
  },
  {
   "cell_type": "code",
   "execution_count": 25,
   "metadata": {},
   "outputs": [
    {
     "data": {
      "text/plain": "1       3\n2     491\n6      11\n12      2\n16      3\n18     12\n19      3\ndtype: int64"
     },
     "execution_count": 25,
     "metadata": {},
     "output_type": "execute_result"
    }
   ],
   "source": [
    "df[df.columns[df.dtypes == 'object']].nunique()"
   ]
  },
  {
   "cell_type": "code",
   "execution_count": 26,
   "metadata": {},
   "outputs": [
    {
     "data": {
      "text/plain": "8        2\nlabel    2\ndtype: int64"
     },
     "execution_count": 26,
     "metadata": {},
     "output_type": "execute_result"
    }
   ],
   "source": [
    "df[df.columns[df.dtypes == 'int64']].nunique()"
   ]
  },
  {
   "cell_type": "markdown",
   "metadata": {},
   "source": [
    "#### Column 8 is Binary"
   ]
  },
  {
   "cell_type": "code",
   "execution_count": 27,
   "metadata": {},
   "outputs": [
    {
     "data": {
      "text/plain": "         0         3       4         5      7           9   10          11  \\\n0      1.0  0.828866   216.0  4.846091   50.0  161.714226  0.0   85.964376   \n1      8.0  8.981168    46.0  7.324911  270.0  328.559851  0.0  294.552881   \n2      1.0  1.458061  3304.0  7.548887  200.0  298.775554  0.0  317.615920   \n3      1.0  2.753682   212.0  8.200746  170.0  285.342907  0.0  181.773337   \n4      1.0  4.496872  1050.0  5.071094  260.0  328.464688  0.0  454.058222   \n...    ...       ...     ...       ...    ...         ...  ...         ...   \n21926  1.0  9.234068   228.0  6.497949  200.0  298.387445  0.0  199.845633   \n21927  3.0  1.425130   829.0  4.459834  270.0  330.998210  2.0  654.216171   \n21928  1.0  7.656161   296.0  6.688392   80.0  210.458322  0.0   97.943586   \n21929  2.0  4.016924    57.0  5.486059   90.0  220.485053  0.0  407.562382   \n21930  1.0  1.026590    54.0  6.392427  100.0  231.026259  0.0  399.276127   \n\n        13     14   15        17         20  \n0      2.0  414.0  0.0  2.191401  15.921017  \n1      3.0   63.0  0.0  3.811778  47.567140  \n2      1.0  218.0  0.0  4.284457  10.522228  \n3      2.0    NaN  0.0  4.680751  21.185050  \n4      3.0  293.0  0.0  2.740114  47.491164  \n...    ...    ...  ...       ...        ...  \n21926  2.0  257.0  0.0  3.036520  23.647446  \n21927  0.0  196.0  0.0  2.108740  17.079316  \n21928  3.0    NaN  0.0  4.083415  26.412485  \n21929  2.0  404.0  0.0  2.587831  -2.056748  \n21930  2.0    NaN  0.0  3.535312  44.396488  \n\n[21931 rows x 13 columns]",
      "text/html": "<div>\n<style scoped>\n    .dataframe tbody tr th:only-of-type {\n        vertical-align: middle;\n    }\n\n    .dataframe tbody tr th {\n        vertical-align: top;\n    }\n\n    .dataframe thead th {\n        text-align: right;\n    }\n</style>\n<table border=\"1\" class=\"dataframe\">\n  <thead>\n    <tr style=\"text-align: right;\">\n      <th></th>\n      <th>0</th>\n      <th>3</th>\n      <th>4</th>\n      <th>5</th>\n      <th>7</th>\n      <th>9</th>\n      <th>10</th>\n      <th>11</th>\n      <th>13</th>\n      <th>14</th>\n      <th>15</th>\n      <th>17</th>\n      <th>20</th>\n    </tr>\n  </thead>\n  <tbody>\n    <tr>\n      <th>0</th>\n      <td>1.0</td>\n      <td>0.828866</td>\n      <td>216.0</td>\n      <td>4.846091</td>\n      <td>50.0</td>\n      <td>161.714226</td>\n      <td>0.0</td>\n      <td>85.964376</td>\n      <td>2.0</td>\n      <td>414.0</td>\n      <td>0.0</td>\n      <td>2.191401</td>\n      <td>15.921017</td>\n    </tr>\n    <tr>\n      <th>1</th>\n      <td>8.0</td>\n      <td>8.981168</td>\n      <td>46.0</td>\n      <td>7.324911</td>\n      <td>270.0</td>\n      <td>328.559851</td>\n      <td>0.0</td>\n      <td>294.552881</td>\n      <td>3.0</td>\n      <td>63.0</td>\n      <td>0.0</td>\n      <td>3.811778</td>\n      <td>47.567140</td>\n    </tr>\n    <tr>\n      <th>2</th>\n      <td>1.0</td>\n      <td>1.458061</td>\n      <td>3304.0</td>\n      <td>7.548887</td>\n      <td>200.0</td>\n      <td>298.775554</td>\n      <td>0.0</td>\n      <td>317.615920</td>\n      <td>1.0</td>\n      <td>218.0</td>\n      <td>0.0</td>\n      <td>4.284457</td>\n      <td>10.522228</td>\n    </tr>\n    <tr>\n      <th>3</th>\n      <td>1.0</td>\n      <td>2.753682</td>\n      <td>212.0</td>\n      <td>8.200746</td>\n      <td>170.0</td>\n      <td>285.342907</td>\n      <td>0.0</td>\n      <td>181.773337</td>\n      <td>2.0</td>\n      <td>NaN</td>\n      <td>0.0</td>\n      <td>4.680751</td>\n      <td>21.185050</td>\n    </tr>\n    <tr>\n      <th>4</th>\n      <td>1.0</td>\n      <td>4.496872</td>\n      <td>1050.0</td>\n      <td>5.071094</td>\n      <td>260.0</td>\n      <td>328.464688</td>\n      <td>0.0</td>\n      <td>454.058222</td>\n      <td>3.0</td>\n      <td>293.0</td>\n      <td>0.0</td>\n      <td>2.740114</td>\n      <td>47.491164</td>\n    </tr>\n    <tr>\n      <th>...</th>\n      <td>...</td>\n      <td>...</td>\n      <td>...</td>\n      <td>...</td>\n      <td>...</td>\n      <td>...</td>\n      <td>...</td>\n      <td>...</td>\n      <td>...</td>\n      <td>...</td>\n      <td>...</td>\n      <td>...</td>\n      <td>...</td>\n    </tr>\n    <tr>\n      <th>21926</th>\n      <td>1.0</td>\n      <td>9.234068</td>\n      <td>228.0</td>\n      <td>6.497949</td>\n      <td>200.0</td>\n      <td>298.387445</td>\n      <td>0.0</td>\n      <td>199.845633</td>\n      <td>2.0</td>\n      <td>257.0</td>\n      <td>0.0</td>\n      <td>3.036520</td>\n      <td>23.647446</td>\n    </tr>\n    <tr>\n      <th>21927</th>\n      <td>3.0</td>\n      <td>1.425130</td>\n      <td>829.0</td>\n      <td>4.459834</td>\n      <td>270.0</td>\n      <td>330.998210</td>\n      <td>2.0</td>\n      <td>654.216171</td>\n      <td>0.0</td>\n      <td>196.0</td>\n      <td>0.0</td>\n      <td>2.108740</td>\n      <td>17.079316</td>\n    </tr>\n    <tr>\n      <th>21928</th>\n      <td>1.0</td>\n      <td>7.656161</td>\n      <td>296.0</td>\n      <td>6.688392</td>\n      <td>80.0</td>\n      <td>210.458322</td>\n      <td>0.0</td>\n      <td>97.943586</td>\n      <td>3.0</td>\n      <td>NaN</td>\n      <td>0.0</td>\n      <td>4.083415</td>\n      <td>26.412485</td>\n    </tr>\n    <tr>\n      <th>21929</th>\n      <td>2.0</td>\n      <td>4.016924</td>\n      <td>57.0</td>\n      <td>5.486059</td>\n      <td>90.0</td>\n      <td>220.485053</td>\n      <td>0.0</td>\n      <td>407.562382</td>\n      <td>2.0</td>\n      <td>404.0</td>\n      <td>0.0</td>\n      <td>2.587831</td>\n      <td>-2.056748</td>\n    </tr>\n    <tr>\n      <th>21930</th>\n      <td>1.0</td>\n      <td>1.026590</td>\n      <td>54.0</td>\n      <td>6.392427</td>\n      <td>100.0</td>\n      <td>231.026259</td>\n      <td>0.0</td>\n      <td>399.276127</td>\n      <td>2.0</td>\n      <td>NaN</td>\n      <td>0.0</td>\n      <td>3.535312</td>\n      <td>44.396488</td>\n    </tr>\n  </tbody>\n</table>\n<p>21931 rows × 13 columns</p>\n</div>"
     },
     "execution_count": 27,
     "metadata": {},
     "output_type": "execute_result"
    }
   ],
   "source": [
    "## find numeric columns\n",
    "df_numeric_col = df[df.columns[df.dtypes == 'float64']]\n",
    "df_numeric_col\n",
    "# df_mean_std['std'] =  df[df.columns[df.dtypes == 'float64']].std().values\n",
    "# df_mean_std['max'] =  df[df.columns[df.dtypes == 'float64']].max().values\n",
    "# df_mean_std['min'] =  df[df.columns[df.dtypes == 'float64']].min().values\n"
   ]
  },
  {
   "cell_type": "code",
   "execution_count": 28,
   "metadata": {
    "collapsed": false,
    "jupyter": {
     "outputs_hidden": false
    },
    "pycharm": {
     "name": "#%%\n"
    }
   },
   "outputs": [
    {
     "data": {
      "text/plain": "    index    count         mean          std          min         25%  \\\n0       0  21858.0     2.709443     2.976380     1.000000    1.000000   \n1       3  21826.0     4.204116     3.752786   -11.138786    1.605409   \n2       4  21906.0  1383.256596  3030.087625 -8019.000000   80.000000   \n3       5  21871.0     6.589936     0.921664     3.776680    5.901285   \n4       7  21911.0   157.450596    83.121658    10.000000   80.000000   \n5       8  21931.0     0.542429     0.498208     0.000000    0.000000   \n6       9  21892.0   256.617674    71.635412    -1.892158  209.751981   \n7      10  21828.0     0.608164     1.893069     0.000000    0.000000   \n8      11  21860.0   268.845882   183.952200     0.003898  119.317515   \n9      13  21891.0     2.063816     0.784205     0.000000    2.000000   \n10     14  17946.0   276.022010   274.575423     0.000000  108.000000   \n11     15  21832.0     0.017314     0.130442     0.000000    0.000000   \n12     17  21830.0     3.647972     0.746277     1.939095    3.036520   \n13     20  21930.0    26.278887    20.111219   -54.438941   12.679984   \n14  label  21931.0     0.178423     0.382877     0.000000    0.000000   \n\n           50%          75%            max  \n0     2.000000     3.000000      51.000000  \n1     4.190917     6.811247      17.647593  \n2   470.000000  1472.750000  102127.000000  \n3     6.517118     7.246177      10.303540  \n4   160.000000   210.000000     310.000000  \n5     1.000000     1.000000       1.000000  \n6   277.786998   306.584649     347.191571  \n7     0.000000     0.000000      41.000000  \n8   242.093814   388.855035    1081.031042  \n9     2.000000     3.000000       3.000000  \n10  191.000000   342.000000    4918.000000  \n11    0.000000     0.000000       1.000000  \n12    3.535312     4.150667       7.141043  \n13   26.477637    39.945262     102.590418  \n14    0.000000     0.000000       1.000000  ",
      "text/html": "<div>\n<style scoped>\n    .dataframe tbody tr th:only-of-type {\n        vertical-align: middle;\n    }\n\n    .dataframe tbody tr th {\n        vertical-align: top;\n    }\n\n    .dataframe thead th {\n        text-align: right;\n    }\n</style>\n<table border=\"1\" class=\"dataframe\">\n  <thead>\n    <tr style=\"text-align: right;\">\n      <th></th>\n      <th>index</th>\n      <th>count</th>\n      <th>mean</th>\n      <th>std</th>\n      <th>min</th>\n      <th>25%</th>\n      <th>50%</th>\n      <th>75%</th>\n      <th>max</th>\n    </tr>\n  </thead>\n  <tbody>\n    <tr>\n      <th>0</th>\n      <td>0</td>\n      <td>21858.0</td>\n      <td>2.709443</td>\n      <td>2.976380</td>\n      <td>1.000000</td>\n      <td>1.000000</td>\n      <td>2.000000</td>\n      <td>3.000000</td>\n      <td>51.000000</td>\n    </tr>\n    <tr>\n      <th>1</th>\n      <td>3</td>\n      <td>21826.0</td>\n      <td>4.204116</td>\n      <td>3.752786</td>\n      <td>-11.138786</td>\n      <td>1.605409</td>\n      <td>4.190917</td>\n      <td>6.811247</td>\n      <td>17.647593</td>\n    </tr>\n    <tr>\n      <th>2</th>\n      <td>4</td>\n      <td>21906.0</td>\n      <td>1383.256596</td>\n      <td>3030.087625</td>\n      <td>-8019.000000</td>\n      <td>80.000000</td>\n      <td>470.000000</td>\n      <td>1472.750000</td>\n      <td>102127.000000</td>\n    </tr>\n    <tr>\n      <th>3</th>\n      <td>5</td>\n      <td>21871.0</td>\n      <td>6.589936</td>\n      <td>0.921664</td>\n      <td>3.776680</td>\n      <td>5.901285</td>\n      <td>6.517118</td>\n      <td>7.246177</td>\n      <td>10.303540</td>\n    </tr>\n    <tr>\n      <th>4</th>\n      <td>7</td>\n      <td>21911.0</td>\n      <td>157.450596</td>\n      <td>83.121658</td>\n      <td>10.000000</td>\n      <td>80.000000</td>\n      <td>160.000000</td>\n      <td>210.000000</td>\n      <td>310.000000</td>\n    </tr>\n    <tr>\n      <th>5</th>\n      <td>8</td>\n      <td>21931.0</td>\n      <td>0.542429</td>\n      <td>0.498208</td>\n      <td>0.000000</td>\n      <td>0.000000</td>\n      <td>1.000000</td>\n      <td>1.000000</td>\n      <td>1.000000</td>\n    </tr>\n    <tr>\n      <th>6</th>\n      <td>9</td>\n      <td>21892.0</td>\n      <td>256.617674</td>\n      <td>71.635412</td>\n      <td>-1.892158</td>\n      <td>209.751981</td>\n      <td>277.786998</td>\n      <td>306.584649</td>\n      <td>347.191571</td>\n    </tr>\n    <tr>\n      <th>7</th>\n      <td>10</td>\n      <td>21828.0</td>\n      <td>0.608164</td>\n      <td>1.893069</td>\n      <td>0.000000</td>\n      <td>0.000000</td>\n      <td>0.000000</td>\n      <td>0.000000</td>\n      <td>41.000000</td>\n    </tr>\n    <tr>\n      <th>8</th>\n      <td>11</td>\n      <td>21860.0</td>\n      <td>268.845882</td>\n      <td>183.952200</td>\n      <td>0.003898</td>\n      <td>119.317515</td>\n      <td>242.093814</td>\n      <td>388.855035</td>\n      <td>1081.031042</td>\n    </tr>\n    <tr>\n      <th>9</th>\n      <td>13</td>\n      <td>21891.0</td>\n      <td>2.063816</td>\n      <td>0.784205</td>\n      <td>0.000000</td>\n      <td>2.000000</td>\n      <td>2.000000</td>\n      <td>3.000000</td>\n      <td>3.000000</td>\n    </tr>\n    <tr>\n      <th>10</th>\n      <td>14</td>\n      <td>17946.0</td>\n      <td>276.022010</td>\n      <td>274.575423</td>\n      <td>0.000000</td>\n      <td>108.000000</td>\n      <td>191.000000</td>\n      <td>342.000000</td>\n      <td>4918.000000</td>\n    </tr>\n    <tr>\n      <th>11</th>\n      <td>15</td>\n      <td>21832.0</td>\n      <td>0.017314</td>\n      <td>0.130442</td>\n      <td>0.000000</td>\n      <td>0.000000</td>\n      <td>0.000000</td>\n      <td>0.000000</td>\n      <td>1.000000</td>\n    </tr>\n    <tr>\n      <th>12</th>\n      <td>17</td>\n      <td>21830.0</td>\n      <td>3.647972</td>\n      <td>0.746277</td>\n      <td>1.939095</td>\n      <td>3.036520</td>\n      <td>3.535312</td>\n      <td>4.150667</td>\n      <td>7.141043</td>\n    </tr>\n    <tr>\n      <th>13</th>\n      <td>20</td>\n      <td>21930.0</td>\n      <td>26.278887</td>\n      <td>20.111219</td>\n      <td>-54.438941</td>\n      <td>12.679984</td>\n      <td>26.477637</td>\n      <td>39.945262</td>\n      <td>102.590418</td>\n    </tr>\n    <tr>\n      <th>14</th>\n      <td>label</td>\n      <td>21931.0</td>\n      <td>0.178423</td>\n      <td>0.382877</td>\n      <td>0.000000</td>\n      <td>0.000000</td>\n      <td>0.000000</td>\n      <td>0.000000</td>\n      <td>1.000000</td>\n    </tr>\n  </tbody>\n</table>\n</div>"
     },
     "execution_count": 28,
     "metadata": {},
     "output_type": "execute_result"
    }
   ],
   "source": [
    "stats = df.describe().T.reset_index()\n",
    "stats"
   ]
  },
  {
   "cell_type": "code",
   "execution_count": 29,
   "metadata": {},
   "outputs": [],
   "source": [
    "# df.reset_index().plot.scatter(x='index', y='0')"
   ]
  },
  {
   "cell_type": "code",
   "execution_count": 30,
   "metadata": {},
   "outputs": [
    {
     "data": {
      "text/plain": "[<matplotlib.lines.Line2D at 0x232d8f10190>]"
     },
     "execution_count": 30,
     "metadata": {},
     "output_type": "execute_result"
    },
    {
     "data": {
      "text/plain": "<Figure size 576x396 with 1 Axes>",
      "image/png": "[encoded data removed]"
     },
     "metadata": {},
     "output_type": "display_data"
    }
   ],
   "source": [
    "plt.style.use('seaborn')\n",
    "df['3'].plot.hist(bins=50, density=1, alpha=0.5, color='g')\n",
    "x = np.linspace(stats[stats['index'] == '3']['mean'] - 3*stats[stats['index'] == '3']['std'], \n",
    "                stats[stats['index'] == '3']['mean'] + 3*stats[stats['index'] == '3']['std'], 100)\n",
    "plt.plot(x, st.norm.pdf(x, stats[stats['index'] == '3']['mean'], stats[stats['index'] == '3']['std']), c='r')"
   ]
  },
  {
   "cell_type": "code",
   "execution_count": 31,
   "outputs": [
    {
     "data": {
      "text/plain": "[<matplotlib.lines.Line2D at 0x232db10adf0>]"
     },
     "execution_count": 31,
     "metadata": {},
     "output_type": "execute_result"
    },
    {
     "data": {
      "text/plain": "<Figure size 576x396 with 1 Axes>",
      "image/png": "[encoded data removed]"
     },
     "metadata": {},
     "output_type": "display_data"
    }
   ],
   "source": [
    "plt.style.use('seaborn')\n",
    "df['0'].plot.hist(bins=50, density=1, alpha=0.5, color='g')\n",
    "x = np.linspace(stats[stats['index'] == '0']['mean'] - 3*stats[stats['index'] == '0']['std'],\n",
    "                stats[stats['index'] == '0']['mean'] + 3*stats[stats['index'] == '0']['std'], 100)\n",
    "plt.plot(x, st.norm.pdf(x, stats[stats['index'] == '0']['mean'], stats[stats['index'] == '0']['std']), c='r')"
   ],
   "metadata": {
    "collapsed": false,
    "pycharm": {
     "name": "#%%\n"
    }
   }
  },
  {
   "cell_type": "code",
   "execution_count": 14,
   "metadata": {},
   "outputs": [
    {
     "data": {
      "text/plain": "              0         3         4         5         7         8         9  \\\n0      1.000000  0.090564 -0.016967  0.009964  0.148854 -0.016146  0.125903   \n3      0.090564  1.000000  0.008787 -0.005487  0.595225 -0.010804  0.559471   \n4     -0.016967  0.008787  1.000000  0.079775  0.010736 -0.070730  0.012900   \n5      0.009964 -0.005487  0.079775  1.000000 -0.011275 -0.158702 -0.009352   \n7      0.148854  0.595225  0.010736 -0.011275  1.000000 -0.027526  0.934719   \n8     -0.016146 -0.010804 -0.070730 -0.158702 -0.027526  1.000000  0.004297   \n9      0.125903  0.559471  0.012900 -0.009352  0.934719  0.004297  1.000000   \n10    -0.040795 -0.036505  0.023810  0.002224 -0.057871  0.033749 -0.049853   \n11     0.067913  0.235581 -0.016112 -0.012126  0.408754 -0.017673  0.346862   \n13    -0.004287  0.020109  0.066848 -0.156433  0.020601 -0.047802  0.007414   \n14    -0.088212 -0.006195  0.019207 -0.002931 -0.015932 -0.001613 -0.007818   \n15     0.021060  0.007360 -0.065642 -0.021401  0.002894 -0.001384  0.000099   \n17     0.013737 -0.009694  0.089116  0.900337 -0.012857 -0.183501 -0.011786   \n20     0.009342 -0.003220  0.004001  0.033696 -0.000478 -0.011306 -0.002989   \nlabel -0.088982 -0.015600  0.062469  0.011840 -0.029494 -0.165548 -0.043236   \n\n             10        11        13        14        15        17        20  \\\n0     -0.040795  0.067913 -0.004287 -0.088212  0.021060  0.013737  0.009342   \n3     -0.036505  0.235581  0.020109 -0.006195  0.007360 -0.009694 -0.003220   \n4      0.023810 -0.016112  0.066848  0.019207 -0.065642  0.089116  0.004001   \n5      0.002224 -0.012126 -0.156433 -0.002931 -0.021401  0.900337  0.033696   \n7     -0.057871  0.408754  0.020601 -0.015932  0.002894 -0.012857 -0.000478   \n8      0.033749 -0.017673 -0.047802 -0.001613 -0.001384 -0.183501 -0.011306   \n9     -0.049853  0.346862  0.007414 -0.007818  0.000099 -0.011786 -0.002989   \n10     1.000000 -0.026031  0.035655  0.000129 -0.024436  0.002636 -0.005110   \n11    -0.026031  1.000000  0.007226 -0.012364  0.007591 -0.011609 -0.001808   \n13     0.035655  0.007226  1.000000 -0.002458 -0.015145 -0.173396 -0.003954   \n14     0.000129 -0.012364 -0.002458  1.000000 -0.008354 -0.001974  0.011808   \n15    -0.024436  0.007591 -0.015145 -0.008354  1.000000 -0.020061 -0.006377   \n17     0.002636 -0.011609 -0.173396 -0.001974 -0.020061  1.000000  0.038005   \n20    -0.005110 -0.001808 -0.003954  0.011808 -0.006377  0.038005  1.000000   \nlabel  0.132873  0.002174  0.065719  0.429387 -0.026948  0.024423  0.001188   \n\n          label  \n0     -0.088982  \n3     -0.015600  \n4      0.062469  \n5      0.011840  \n7     -0.029494  \n8     -0.165548  \n9     -0.043236  \n10     0.132873  \n11     0.002174  \n13     0.065719  \n14     0.429387  \n15    -0.026948  \n17     0.024423  \n20     0.001188  \nlabel  1.000000  ",
      "text/html": "<div>\n<style scoped>\n    .dataframe tbody tr th:only-of-type {\n        vertical-align: middle;\n    }\n\n    .dataframe tbody tr th {\n        vertical-align: top;\n    }\n\n    .dataframe thead th {\n        text-align: right;\n    }\n</style>\n<table border=\"1\" class=\"dataframe\">\n  <thead>\n    <tr style=\"text-align: right;\">\n      <th></th>\n      <th>0</th>\n      <th>3</th>\n      <th>4</th>\n      <th>5</th>\n      <th>7</th>\n      <th>8</th>\n      <th>9</th>\n      <th>10</th>\n      <th>11</th>\n      <th>13</th>\n      <th>14</th>\n      <th>15</th>\n      <th>17</th>\n      <th>20</th>\n      <th>label</th>\n    </tr>\n  </thead>\n  <tbody>\n    <tr>\n      <th>0</th>\n      <td>1.000000</td>\n      <td>0.090564</td>\n      <td>-0.016967</td>\n      <td>0.009964</td>\n      <td>0.148854</td>\n      <td>-0.016146</td>\n      <td>0.125903</td>\n      <td>-0.040795</td>\n      <td>0.067913</td>\n      <td>-0.004287</td>\n      <td>-0.088212</td>\n      <td>0.021060</td>\n      <td>0.013737</td>\n      <td>0.009342</td>\n      <td>-0.088982</td>\n    </tr>\n    <tr>\n      <th>3</th>\n      <td>0.090564</td>\n      <td>1.000000</td>\n      <td>0.008787</td>\n      <td>-0.005487</td>\n      <td>0.595225</td>\n      <td>-0.010804</td>\n      <td>0.559471</td>\n      <td>-0.036505</td>\n      <td>0.235581</td>\n      <td>0.020109</td>\n      <td>-0.006195</td>\n      <td>0.007360</td>\n      <td>-0.009694</td>\n      <td>-0.003220</td>\n      <td>-0.015600</td>\n    </tr>\n    <tr>\n      <th>4</th>\n      <td>-0.016967</td>\n      <td>0.008787</td>\n      <td>1.000000</td>\n      <td>0.079775</td>\n      <td>0.010736</td>\n      <td>-0.070730</td>\n      <td>0.012900</td>\n      <td>0.023810</td>\n      <td>-0.016112</td>\n      <td>0.066848</td>\n      <td>0.019207</td>\n      <td>-0.065642</td>\n      <td>0.089116</td>\n      <td>0.004001</td>\n      <td>0.062469</td>\n    </tr>\n    <tr>\n      <th>5</th>\n      <td>0.009964</td>\n      <td>-0.005487</td>\n      <td>0.079775</td>\n      <td>1.000000</td>\n      <td>-0.011275</td>\n      <td>-0.158702</td>\n      <td>-0.009352</td>\n      <td>0.002224</td>\n      <td>-0.012126</td>\n      <td>-0.156433</td>\n      <td>-0.002931</td>\n      <td>-0.021401</td>\n      <td>0.900337</td>\n      <td>0.033696</td>\n      <td>0.011840</td>\n    </tr>\n    <tr>\n      <th>7</th>\n      <td>0.148854</td>\n      <td>0.595225</td>\n      <td>0.010736</td>\n      <td>-0.011275</td>\n      <td>1.000000</td>\n      <td>-0.027526</td>\n      <td>0.934719</td>\n      <td>-0.057871</td>\n      <td>0.408754</td>\n      <td>0.020601</td>\n      <td>-0.015932</td>\n      <td>0.002894</td>\n      <td>-0.012857</td>\n      <td>-0.000478</td>\n      <td>-0.029494</td>\n    </tr>\n    <tr>\n      <th>8</th>\n      <td>-0.016146</td>\n      <td>-0.010804</td>\n      <td>-0.070730</td>\n      <td>-0.158702</td>\n      <td>-0.027526</td>\n      <td>1.000000</td>\n      <td>0.004297</td>\n      <td>0.033749</td>\n      <td>-0.017673</td>\n      <td>-0.047802</td>\n      <td>-0.001613</td>\n      <td>-0.001384</td>\n      <td>-0.183501</td>\n      <td>-0.011306</td>\n      <td>-0.165548</td>\n    </tr>\n    <tr>\n      <th>9</th>\n      <td>0.125903</td>\n      <td>0.559471</td>\n      <td>0.012900</td>\n      <td>-0.009352</td>\n      <td>0.934719</td>\n      <td>0.004297</td>\n      <td>1.000000</td>\n      <td>-0.049853</td>\n      <td>0.346862</td>\n      <td>0.007414</td>\n      <td>-0.007818</td>\n      <td>0.000099</td>\n      <td>-0.011786</td>\n      <td>-0.002989</td>\n      <td>-0.043236</td>\n    </tr>\n    <tr>\n      <th>10</th>\n      <td>-0.040795</td>\n      <td>-0.036505</td>\n      <td>0.023810</td>\n      <td>0.002224</td>\n      <td>-0.057871</td>\n      <td>0.033749</td>\n      <td>-0.049853</td>\n      <td>1.000000</td>\n      <td>-0.026031</td>\n      <td>0.035655</td>\n      <td>0.000129</td>\n      <td>-0.024436</td>\n      <td>0.002636</td>\n      <td>-0.005110</td>\n      <td>0.132873</td>\n    </tr>\n    <tr>\n      <th>11</th>\n      <td>0.067913</td>\n      <td>0.235581</td>\n      <td>-0.016112</td>\n      <td>-0.012126</td>\n      <td>0.408754</td>\n      <td>-0.017673</td>\n      <td>0.346862</td>\n      <td>-0.026031</td>\n      <td>1.000000</td>\n      <td>0.007226</td>\n      <td>-0.012364</td>\n      <td>0.007591</td>\n      <td>-0.011609</td>\n      <td>-0.001808</td>\n      <td>0.002174</td>\n    </tr>\n    <tr>\n      <th>13</th>\n      <td>-0.004287</td>\n      <td>0.020109</td>\n      <td>0.066848</td>\n      <td>-0.156433</td>\n      <td>0.020601</td>\n      <td>-0.047802</td>\n      <td>0.007414</td>\n      <td>0.035655</td>\n      <td>0.007226</td>\n      <td>1.000000</td>\n      <td>-0.002458</td>\n      <td>-0.015145</td>\n      <td>-0.173396</td>\n      <td>-0.003954</td>\n      <td>0.065719</td>\n    </tr>\n    <tr>\n      <th>14</th>\n      <td>-0.088212</td>\n      <td>-0.006195</td>\n      <td>0.019207</td>\n      <td>-0.002931</td>\n      <td>-0.015932</td>\n      <td>-0.001613</td>\n      <td>-0.007818</td>\n      <td>0.000129</td>\n      <td>-0.012364</td>\n      <td>-0.002458</td>\n      <td>1.000000</td>\n      <td>-0.008354</td>\n      <td>-0.001974</td>\n      <td>0.011808</td>\n      <td>0.429387</td>\n    </tr>\n    <tr>\n      <th>15</th>\n      <td>0.021060</td>\n      <td>0.007360</td>\n      <td>-0.065642</td>\n      <td>-0.021401</td>\n      <td>0.002894</td>\n      <td>-0.001384</td>\n      <td>0.000099</td>\n      <td>-0.024436</td>\n      <td>0.007591</td>\n      <td>-0.015145</td>\n      <td>-0.008354</td>\n      <td>1.000000</td>\n      <td>-0.020061</td>\n      <td>-0.006377</td>\n      <td>-0.026948</td>\n    </tr>\n    <tr>\n      <th>17</th>\n      <td>0.013737</td>\n      <td>-0.009694</td>\n      <td>0.089116</td>\n      <td>0.900337</td>\n      <td>-0.012857</td>\n      <td>-0.183501</td>\n      <td>-0.011786</td>\n      <td>0.002636</td>\n      <td>-0.011609</td>\n      <td>-0.173396</td>\n      <td>-0.001974</td>\n      <td>-0.020061</td>\n      <td>1.000000</td>\n      <td>0.038005</td>\n      <td>0.024423</td>\n    </tr>\n    <tr>\n      <th>20</th>\n      <td>0.009342</td>\n      <td>-0.003220</td>\n      <td>0.004001</td>\n      <td>0.033696</td>\n      <td>-0.000478</td>\n      <td>-0.011306</td>\n      <td>-0.002989</td>\n      <td>-0.005110</td>\n      <td>-0.001808</td>\n      <td>-0.003954</td>\n      <td>0.011808</td>\n      <td>-0.006377</td>\n      <td>0.038005</td>\n      <td>1.000000</td>\n      <td>0.001188</td>\n    </tr>\n    <tr>\n      <th>label</th>\n      <td>-0.088982</td>\n      <td>-0.015600</td>\n      <td>0.062469</td>\n      <td>0.011840</td>\n      <td>-0.029494</td>\n      <td>-0.165548</td>\n      <td>-0.043236</td>\n      <td>0.132873</td>\n      <td>0.002174</td>\n      <td>0.065719</td>\n      <td>0.429387</td>\n      <td>-0.026948</td>\n      <td>0.024423</td>\n      <td>0.001188</td>\n      <td>1.000000</td>\n    </tr>\n  </tbody>\n</table>\n</div>"
     },
     "execution_count": 14,
     "metadata": {},
     "output_type": "execute_result"
    }
   ],
   "source": [
    "df.corr()"
   ]
  },
  {
   "cell_type": "code",
   "execution_count": 14,
   "metadata": {},
   "outputs": [],
   "source": []
  },
  {
   "cell_type": "code",
   "execution_count": 15,
   "metadata": {},
   "outputs": [
    {
     "data": {
      "text/plain": "(21931, 22)"
     },
     "execution_count": 15,
     "metadata": {},
     "output_type": "execute_result"
    }
   ],
   "source": [
    "df.shape"
   ]
  },
  {
   "cell_type": "code",
   "execution_count": 16,
   "metadata": {
    "collapsed": false,
    "jupyter": {
     "outputs_hidden": false
    },
    "pycharm": {
     "name": "#%%\n"
    }
   },
   "outputs": [
    {
     "data": {
      "text/plain": "         0        1    2         3       4         5  6      7  8           9  \\\n0      1.0        a  -1d  0.828866   216.0  4.846091  K   50.0  0  161.714226   \n1      8.0        a  -1d  8.981168    46.0  7.324911  A  270.0  0  328.559851   \n2      1.0        a  -1d  1.458061  3304.0  7.548887  D  200.0  1  298.775554   \n3      1.0        b  -1d  2.753682   212.0  8.200746  E  170.0  0  285.342907   \n4      1.0  unknown  -1d  4.496872  1050.0  5.071094  B  260.0  1  328.464688   \n...    ...      ...  ...       ...     ...       ... ..    ... ..         ...   \n21925  2.0        a  -1d  2.651005  1788.0  6.050346  B   80.0  0  207.001715   \n21926  1.0  unknown  -1d  9.234068   228.0  6.497949  G  200.0  1  298.387445   \n21928  1.0        a  -1d  7.656161   296.0  6.688392  A   80.0  1  210.458322   \n21929  2.0  unknown  -1d  4.016924    57.0  5.486059  B   90.0  1  220.485053   \n21930  1.0        a  -1d  1.026590    54.0  6.392427  G  100.0  1  231.026259   \n\n       ...  12   13     14   15  16        17  18   19         20 label  \n0      ...   n  2.0  414.0  0.0   S  2.191401  a8  NaN  15.921017     1  \n1      ...   n  3.0   63.0  0.0   M  3.811778  a8  NaN  47.567140     0  \n2      ...   n  1.0  218.0  0.0   M  4.284457  a4  NaN  10.522228     0  \n3      ...   y  2.0    NaN  0.0   D  4.680751  a7  NaN  21.185050     0  \n4      ...   n  3.0  293.0  0.0   S  2.740114  a5  NaN  47.491164     0  \n...    ...  ..  ...    ...  ...  ..       ...  ..  ...        ...   ...  \n21925  ...   n  2.0    NaN  0.0   S  3.465326  a8  NaN  49.392625     0  \n21926  ...   n  2.0  257.0  0.0   S  3.036520  a5  NaN  23.647446     0  \n21928  ...   n  3.0    NaN  0.0   M  4.083415  a5  NaN  26.412485     0  \n21929  ...   n  2.0  404.0  0.0   S  2.587831  a5  NaN  -2.056748     0  \n21930  ...   n  2.0    NaN  0.0   M  3.535312  a7  NaN  44.396488     0  \n\n[17681 rows x 22 columns]",
      "text/html": "<div>\n<style scoped>\n    .dataframe tbody tr th:only-of-type {\n        vertical-align: middle;\n    }\n\n    .dataframe tbody tr th {\n        vertical-align: top;\n    }\n\n    .dataframe thead th {\n        text-align: right;\n    }\n</style>\n<table border=\"1\" class=\"dataframe\">\n  <thead>\n    <tr style=\"text-align: right;\">\n      <th></th>\n      <th>0</th>\n      <th>1</th>\n      <th>2</th>\n      <th>3</th>\n      <th>4</th>\n      <th>5</th>\n      <th>6</th>\n      <th>7</th>\n      <th>8</th>\n      <th>9</th>\n      <th>...</th>\n      <th>12</th>\n      <th>13</th>\n      <th>14</th>\n      <th>15</th>\n      <th>16</th>\n      <th>17</th>\n      <th>18</th>\n      <th>19</th>\n      <th>20</th>\n      <th>label</th>\n    </tr>\n  </thead>\n  <tbody>\n    <tr>\n      <th>0</th>\n      <td>1.0</td>\n      <td>a</td>\n      <td>-1d</td>\n      <td>0.828866</td>\n      <td>216.0</td>\n      <td>4.846091</td>\n      <td>K</td>\n      <td>50.0</td>\n      <td>0</td>\n      <td>161.714226</td>\n      <td>...</td>\n      <td>n</td>\n      <td>2.0</td>\n      <td>414.0</td>\n      <td>0.0</td>\n      <td>S</td>\n      <td>2.191401</td>\n      <td>a8</td>\n      <td>NaN</td>\n      <td>15.921017</td>\n      <td>1</td>\n    </tr>\n    <tr>\n      <th>1</th>\n      <td>8.0</td>\n      <td>a</td>\n      <td>-1d</td>\n      <td>8.981168</td>\n      <td>46.0</td>\n      <td>7.324911</td>\n      <td>A</td>\n      <td>270.0</td>\n      <td>0</td>\n      <td>328.559851</td>\n      <td>...</td>\n      <td>n</td>\n      <td>3.0</td>\n      <td>63.0</td>\n      <td>0.0</td>\n      <td>M</td>\n      <td>3.811778</td>\n      <td>a8</td>\n      <td>NaN</td>\n      <td>47.567140</td>\n      <td>0</td>\n    </tr>\n    <tr>\n      <th>2</th>\n      <td>1.0</td>\n      <td>a</td>\n      <td>-1d</td>\n      <td>1.458061</td>\n      <td>3304.0</td>\n      <td>7.548887</td>\n      <td>D</td>\n      <td>200.0</td>\n      <td>1</td>\n      <td>298.775554</td>\n      <td>...</td>\n      <td>n</td>\n      <td>1.0</td>\n      <td>218.0</td>\n      <td>0.0</td>\n      <td>M</td>\n      <td>4.284457</td>\n      <td>a4</td>\n      <td>NaN</td>\n      <td>10.522228</td>\n      <td>0</td>\n    </tr>\n    <tr>\n      <th>3</th>\n      <td>1.0</td>\n      <td>b</td>\n      <td>-1d</td>\n      <td>2.753682</td>\n      <td>212.0</td>\n      <td>8.200746</td>\n      <td>E</td>\n      <td>170.0</td>\n      <td>0</td>\n      <td>285.342907</td>\n      <td>...</td>\n      <td>y</td>\n      <td>2.0</td>\n      <td>NaN</td>\n      <td>0.0</td>\n      <td>D</td>\n      <td>4.680751</td>\n      <td>a7</td>\n      <td>NaN</td>\n      <td>21.185050</td>\n      <td>0</td>\n    </tr>\n    <tr>\n      <th>4</th>\n      <td>1.0</td>\n      <td>unknown</td>\n      <td>-1d</td>\n      <td>4.496872</td>\n      <td>1050.0</td>\n      <td>5.071094</td>\n      <td>B</td>\n      <td>260.0</td>\n      <td>1</td>\n      <td>328.464688</td>\n      <td>...</td>\n      <td>n</td>\n      <td>3.0</td>\n      <td>293.0</td>\n      <td>0.0</td>\n      <td>S</td>\n      <td>2.740114</td>\n      <td>a5</td>\n      <td>NaN</td>\n      <td>47.491164</td>\n      <td>0</td>\n    </tr>\n    <tr>\n      <th>...</th>\n      <td>...</td>\n      <td>...</td>\n      <td>...</td>\n      <td>...</td>\n      <td>...</td>\n      <td>...</td>\n      <td>...</td>\n      <td>...</td>\n      <td>...</td>\n      <td>...</td>\n      <td>...</td>\n      <td>...</td>\n      <td>...</td>\n      <td>...</td>\n      <td>...</td>\n      <td>...</td>\n      <td>...</td>\n      <td>...</td>\n      <td>...</td>\n      <td>...</td>\n      <td>...</td>\n    </tr>\n    <tr>\n      <th>21925</th>\n      <td>2.0</td>\n      <td>a</td>\n      <td>-1d</td>\n      <td>2.651005</td>\n      <td>1788.0</td>\n      <td>6.050346</td>\n      <td>B</td>\n      <td>80.0</td>\n      <td>0</td>\n      <td>207.001715</td>\n      <td>...</td>\n      <td>n</td>\n      <td>2.0</td>\n      <td>NaN</td>\n      <td>0.0</td>\n      <td>S</td>\n      <td>3.465326</td>\n      <td>a8</td>\n      <td>NaN</td>\n      <td>49.392625</td>\n      <td>0</td>\n    </tr>\n    <tr>\n      <th>21926</th>\n      <td>1.0</td>\n      <td>unknown</td>\n      <td>-1d</td>\n      <td>9.234068</td>\n      <td>228.0</td>\n      <td>6.497949</td>\n      <td>G</td>\n      <td>200.0</td>\n      <td>1</td>\n      <td>298.387445</td>\n      <td>...</td>\n      <td>n</td>\n      <td>2.0</td>\n      <td>257.0</td>\n      <td>0.0</td>\n      <td>S</td>\n      <td>3.036520</td>\n      <td>a5</td>\n      <td>NaN</td>\n      <td>23.647446</td>\n      <td>0</td>\n    </tr>\n    <tr>\n      <th>21928</th>\n      <td>1.0</td>\n      <td>a</td>\n      <td>-1d</td>\n      <td>7.656161</td>\n      <td>296.0</td>\n      <td>6.688392</td>\n      <td>A</td>\n      <td>80.0</td>\n      <td>1</td>\n      <td>210.458322</td>\n      <td>...</td>\n      <td>n</td>\n      <td>3.0</td>\n      <td>NaN</td>\n      <td>0.0</td>\n      <td>M</td>\n      <td>4.083415</td>\n      <td>a5</td>\n      <td>NaN</td>\n      <td>26.412485</td>\n      <td>0</td>\n    </tr>\n    <tr>\n      <th>21929</th>\n      <td>2.0</td>\n      <td>unknown</td>\n      <td>-1d</td>\n      <td>4.016924</td>\n      <td>57.0</td>\n      <td>5.486059</td>\n      <td>B</td>\n      <td>90.0</td>\n      <td>1</td>\n      <td>220.485053</td>\n      <td>...</td>\n      <td>n</td>\n      <td>2.0</td>\n      <td>404.0</td>\n      <td>0.0</td>\n      <td>S</td>\n      <td>2.587831</td>\n      <td>a5</td>\n      <td>NaN</td>\n      <td>-2.056748</td>\n      <td>0</td>\n    </tr>\n    <tr>\n      <th>21930</th>\n      <td>1.0</td>\n      <td>a</td>\n      <td>-1d</td>\n      <td>1.026590</td>\n      <td>54.0</td>\n      <td>6.392427</td>\n      <td>G</td>\n      <td>100.0</td>\n      <td>1</td>\n      <td>231.026259</td>\n      <td>...</td>\n      <td>n</td>\n      <td>2.0</td>\n      <td>NaN</td>\n      <td>0.0</td>\n      <td>M</td>\n      <td>3.535312</td>\n      <td>a7</td>\n      <td>NaN</td>\n      <td>44.396488</td>\n      <td>0</td>\n    </tr>\n  </tbody>\n</table>\n<p>17681 rows × 22 columns</p>\n</div>"
     },
     "execution_count": 16,
     "metadata": {},
     "output_type": "execute_result"
    }
   ],
   "source": [
    "df[(pd.isnull(df['19']))]"
   ]
  },
  {
   "cell_type": "code",
   "execution_count": 17,
   "metadata": {
    "collapsed": false,
    "jupyter": {
     "outputs_hidden": false
    },
    "pycharm": {
     "name": "#%%\n"
    }
   },
   "outputs": [
    {
     "data": {
      "text/plain": "0         True\n1         True\n2         True\n3         True\n4         True\n         ...  \n21926     True\n21927    False\n21928     True\n21929     True\n21930     True\nName: 19, Length: 21931, dtype: bool"
     },
     "execution_count": 17,
     "metadata": {},
     "output_type": "execute_result"
    }
   ],
   "source": [
    "pd.isnull(df['19'])\n"
   ]
  },
  {
   "cell_type": "code",
   "execution_count": 17,
   "metadata": {
    "collapsed": false,
    "jupyter": {
     "outputs_hidden": false
    },
    "pycharm": {
     "name": "#%%\n"
    }
   },
   "outputs": [],
   "source": []
  }
 ],
 "metadata": {
  "kernelspec": {
   "display_name": "Python 3",
   "language": "python",
   "name": "python3"
  },
  "language_info": {
   "codemirror_mode": {
    "name": "ipython",
    "version": 3
   },
   "file_extension": ".py",
   "mimetype": "text/x-python",
   "name": "python",
   "nbconvert_exporter": "python",
   "pygments_lexer": "ipython3",
   "version": "3.7.4"
  }
 },
 "nbformat": 4,
 "nbformat_minor": 4
}